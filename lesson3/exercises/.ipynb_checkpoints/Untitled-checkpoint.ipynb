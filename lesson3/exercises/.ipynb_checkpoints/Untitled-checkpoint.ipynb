{
 "cells": [
  {
   "cell_type": "markdown",
   "id": "bc5b3f10-578a-4c63-9788-01b8b5f41bcd",
   "metadata": {},
   "source": [
    "In this jupyter notebook with solve the exercises associated to the third lesson in the course."
   ]
  },
  {
   "cell_type": "markdown",
   "id": "4d063087-f4b7-43df-9e5c-d87ae9bef5ba",
   "metadata": {},
   "source": [
    "# E01: Tune the hyperparameters of the training to beat my best validation loss of 2.2"
   ]
  },
  {
   "cell_type": "code",
   "execution_count": 1,
   "id": "3f683467-9f6c-49ce-b287-ca7f3702e897",
   "metadata": {},
   "outputs": [],
   "source": [
    "import torch\n",
    "import torch.nn.functional as F"
   ]
  },
  {
   "cell_type": "code",
   "execution_count": 2,
   "id": "1099df73-90ba-4f07-8251-ca4b7b8ecf1d",
   "metadata": {},
   "outputs": [],
   "source": [
    "words = open('../names.txt', 'r').read().splitlines()\n"
   ]
  },
  {
   "cell_type": "code",
   "execution_count": 3,
   "id": "f2fbcbf1-361b-4f63-a774-4244b1ae569a",
   "metadata": {},
   "outputs": [
    {
     "name": "stdout",
     "output_type": "stream",
     "text": [
      "{1: 'a', 2: 'b', 3: 'c', 4: 'd', 5: 'e', 6: 'f', 7: 'g', 8: 'h', 9: 'i', 10: 'j', 11: 'k', 12: 'l', 13: 'm', 14: 'n', 15: 'o', 16: 'p', 17: 'q', 18: 'r', 19: 's', 20: 't', 21: 'u', 22: 'v', 23: 'w', 24: 'x', 25: 'y', 26: 'z', 0: '.'}\n"
     ]
    }
   ],
   "source": [
    "# build the vocabulary of characters and mappings to/from integers\n",
    "chars = sorted(list(set(''.join(words))))\n",
    "stoi = {s:i+1 for i,s in enumerate(chars)}\n",
    "stoi['.'] = 0\n",
    "itos = {i:s for s,i in stoi.items()}\n",
    "print(itos)"
   ]
  },
  {
   "cell_type": "code",
   "execution_count": 4,
   "id": "a2c86dfe-5817-42fb-9dd8-12c5293d6eb3",
   "metadata": {},
   "outputs": [
    {
     "name": "stdout",
     "output_type": "stream",
     "text": [
      "torch.Size([182625, 4]) torch.Size([182625])\n",
      "torch.Size([22655, 4]) torch.Size([22655])\n",
      "torch.Size([22866, 4]) torch.Size([22866])\n"
     ]
    }
   ],
   "source": [
    "# build the dataset\n",
    "block_size = 4 # context length: how many characters do we take to predict the next one?\n",
    "\n",
    "def build_dataset(words):  \n",
    "  X, Y = [], []\n",
    "  for w in words:\n",
    "\n",
    "    #print(w)\n",
    "    context = [0] * block_size\n",
    "    for ch in w + '.':\n",
    "      ix = stoi[ch]\n",
    "      X.append(context)\n",
    "      Y.append(ix)\n",
    "      #print(''.join(itos[i] for i in context), '--->', itos[ix])\n",
    "      context = context[1:] + [ix] # crop and append\n",
    "\n",
    "  X = torch.tensor(X)\n",
    "  Y = torch.tensor(Y)\n",
    "  print(X.shape, Y.shape)\n",
    "  return X, Y\n",
    "\n",
    "import random\n",
    "random.seed(42)\n",
    "random.shuffle(words)\n",
    "n1 = int(0.8*len(words))\n",
    "n2 = int(0.9*len(words))\n",
    "\n",
    "Xtr, Ytr = build_dataset(words[:n1])\n",
    "Xdev, Ydev = build_dataset(words[n1:n2])\n",
    "Xte, Yte = build_dataset(words[n2:])\n"
   ]
  },
  {
   "cell_type": "code",
   "execution_count": 18,
   "id": "fec0d259-7533-4faa-b865-191f2a627702",
   "metadata": {},
   "outputs": [],
   "source": [
    "g = torch.Generator().manual_seed(2147483647)\n",
    "C = torch.randn((27, 10), generator=g) * 0.01\n",
    "W1 = torch.randn((40, 200), generator=g) * 0.01\n",
    "b1 = torch.randn(200, generator=g)\n",
    "W2 = torch.randn((200, 27), generator=g) * 0.01\n",
    "b2 = torch.randn(27, generator=g)\n",
    "parameters = [C, W1, b1, W2, b2]"
   ]
  },
  {
   "cell_type": "code",
   "execution_count": null,
   "id": "dfc55bf9-9c91-4366-a52e-0656227241ce",
   "metadata": {},
   "outputs": [
    {
     "name": "stdout",
     "output_type": "stream",
     "text": [
      "0: 2.383408784866333\n",
      "1000: 2.390038251876831\n",
      "2000: 2.346309185028076\n",
      "3000: 2.361440658569336\n",
      "4000: 2.3024892807006836\n",
      "5000: 2.318439483642578\n",
      "6000: 2.2855751514434814\n",
      "7000: 2.321019411087036\n",
      "8000: 2.367689371109009\n",
      "9000: 2.321833372116089\n",
      "10000: 2.2576465606689453\n",
      "11000: 2.300424814224243\n",
      "12000: 2.2740671634674072\n",
      "13000: 2.2913851737976074\n"
     ]
    }
   ],
   "source": [
    "for p in parameters:\n",
    "    p.requires_grad = True\n",
    "    \n",
    "# Regularization strength (lambda)\n",
    "reg_lambda = 0.0001\n",
    "\n",
    "# learning loop:\n",
    "for i in range(1000000):\n",
    "  \n",
    "  # minibatch construct\n",
    "  ix = torch.randint(0, Xtr.shape[0], (2048,))\n",
    "  \n",
    "  # forward pass\n",
    "  emb = C[Xtr[ix]] # (32, 4, 4)\n",
    "  h = torch.tanh(emb.view(-1, 40) @ W1 + b1) # (32, 200)\n",
    "  logits = h @ W2 + b2 # (32, 27)\n",
    "  ce_loss = F.cross_entropy(logits, Ytr[ix])\n",
    "    \n",
    "  # Compute L2 regularization loss (sum over all parameters)\n",
    "  reg_loss = 0\n",
    "  for p in parameters:\n",
    "    reg_loss += p.pow(2).sum()\n",
    "    \n",
    "  # Total loss = cross entropy loss + regularization term\n",
    "  loss = ce_loss + reg_lambda * reg_loss\n",
    "  \n",
    "  if i % 1000 == 0:\n",
    "      print(f\"{i}: {loss.item()}\")\n",
    "  \n",
    "  # backward pass\n",
    "  for p in parameters:\n",
    "    p.grad = None\n",
    "  loss.backward()\n",
    "  \n",
    "  # update\n",
    "  #lr = lrs[i]\n",
    "  if i < 5000:\n",
    "    lr = 0.1\n",
    "  elif i < 10000:\n",
    "    lr = 0.01\n",
    "  elif i < 20000:\n",
    "    lr = 0.001\n",
    "  elif i < 40000:\n",
    "    lr = 0.0001\n",
    "  else: \n",
    "    lr = 0.000001\n",
    "  for p in parameters:\n",
    "    p.data += -lr * p.grad\n",
    "\n"
   ]
  },
  {
   "cell_type": "code",
   "execution_count": 17,
   "id": "ed96419d-c527-4dbc-b7b5-1b0c5b2af0fb",
   "metadata": {},
   "outputs": [
    {
     "name": "stdout",
     "output_type": "stream",
     "text": [
      "Dev loss: 2.417600393295288\n"
     ]
    }
   ],
   "source": [
    "with torch.no_grad():\n",
    "    # Forward pass on the entire dev set \n",
    "    emb = C[Xdev]                     # (num_dev_examples, block_size, embedding_dim)\n",
    "    h = torch.tanh(emb.view(Xdev.shape[0], -1) @ W1 + b1)  # (num_dev_examples, hidden_size)\n",
    "    logits = h @ W2 + b2              # (num_dev_examples, num_classes)\n",
    "    \n",
    "    # Compute loss on the dev set\n",
    "    dev_loss = F.cross_entropy(logits, Ydev)\n",
    "    print(f\"Dev loss: {dev_loss.item()}\")"
   ]
  },
  {
   "cell_type": "code",
   "execution_count": null,
   "id": "bc5b90ab-4eb4-4460-903f-93b93a0c1d9a",
   "metadata": {},
   "outputs": [],
   "source": []
  }
 ],
 "metadata": {
  "kernelspec": {
   "display_name": "Python 3 (ipykernel)",
   "language": "python",
   "name": "python3"
  },
  "language_info": {
   "codemirror_mode": {
    "name": "ipython",
    "version": 3
   },
   "file_extension": ".py",
   "mimetype": "text/x-python",
   "name": "python",
   "nbconvert_exporter": "python",
   "pygments_lexer": "ipython3",
   "version": "3.10.12"
  }
 },
 "nbformat": 4,
 "nbformat_minor": 5
}
